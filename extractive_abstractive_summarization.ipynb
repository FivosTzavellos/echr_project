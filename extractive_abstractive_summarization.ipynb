{
 "cells": [
  {
   "cell_type": "markdown",
   "metadata": {},
   "source": [
    "## Imports"
   ]
  },
  {
   "cell_type": "code",
   "execution_count": 15,
   "metadata": {},
   "outputs": [],
   "source": [
    "import tiktoken\n",
    "import torch\n",
    "import spacy\n",
    "import pytextrank\n",
    "import re\n",
    "import pandas as pd\n",
    "import numpy as np\n",
    "from summarizer import Summarizer\n",
    "import ollama\n",
    "import csv\n",
    "\n",
    "MAX_TOKENS = 600"
   ]
  },
  {
   "cell_type": "markdown",
   "metadata": {},
   "source": [
    "## Preprocessing"
   ]
  },
  {
   "cell_type": "code",
   "execution_count": null,
   "metadata": {},
   "outputs": [],
   "source": [
    "facts = pd.read_csv('/Users/XXXX-1/XXXX-3/ECHR/data/facts_unclean.csv', header = 0, index_col = 0)\n",
    "facts = facts.reset_index(drop = True)\n",
    "facts"
   ]
  },
  {
   "cell_type": "code",
   "execution_count": 17,
   "metadata": {},
   "outputs": [
    {
     "data": {
      "text/plain": [
       "array([<class 'str'>, <class 'float'>], dtype=object)"
      ]
     },
     "execution_count": 17,
     "metadata": {},
     "output_type": "execute_result"
    }
   ],
   "source": [
    "types = facts['facts'].apply(type).unique()\n",
    "types"
   ]
  },
  {
   "cell_type": "code",
   "execution_count": 18,
   "metadata": {},
   "outputs": [
    {
     "data": {
      "text/plain": [
       "[212, 266, 409, 767]"
      ]
     },
     "execution_count": 18,
     "metadata": {},
     "output_type": "execute_result"
    }
   ],
   "source": [
    "nan_rows = facts.isna().any(axis=1)\n",
    "nan_indices = facts.index[nan_rows].tolist()\n",
    "nan_indices"
   ]
  },
  {
   "cell_type": "code",
   "execution_count": 19,
   "metadata": {},
   "outputs": [],
   "source": [
    "facts = facts.dropna()\n"
   ]
  },
  {
   "cell_type": "code",
   "execution_count": null,
   "metadata": {},
   "outputs": [],
   "source": [
    "def clean_text(text):\n",
    "    # Remove markdown elements and special characters\n",
    "    text = re.sub(r'#', '', text)  # Remove '###'\n",
    "    text = re.sub(r'[-]', '', text)  # Remove '-'\n",
    "    text = re.sub(r'\\s+', ' ', text)  # Replace multiple spaces with a single space\n",
    "    text = re.sub(r'\\\\[a-zA-Z0-9]+', '', text)  # Remove any escaped sequences like \\xa0\n",
    "    return text\n",
    "\n",
    "cleaned_facts = [clean_text(s) for s in facts['facts']]\n",
    "cleaned_facts"
   ]
  },
  {
   "cell_type": "code",
   "execution_count": 14,
   "metadata": {},
   "outputs": [],
   "source": [
    "with open('facts_clean_final.csv', 'w', newline='', encoding='utf-8') as csvfile:\n",
    "    writer = csv.writer(csvfile)\n",
    "    for fact in cleaned_facts:\n",
    "        writer.writerow([fact])\n"
   ]
  },
  {
   "cell_type": "code",
   "execution_count": 21,
   "metadata": {},
   "outputs": [],
   "source": [
    "df = pd.DataFrame(cleaned_facts, columns=[\"facts\"])\n",
    "csv_file_path = \"facts_clean_final.csv\"\n",
    "df.to_csv(csv_file_path, index=False)\n"
   ]
  },
  {
   "cell_type": "markdown",
   "metadata": {},
   "source": [
    "## Textrank"
   ]
  },
  {
   "cell_type": "code",
   "execution_count": 14,
   "metadata": {},
   "outputs": [],
   "source": [
    "tokenizer = tiktoken.encoding_for_model(\"gpt-3.5\")\n",
    "device = torch.device(\"cuda\" if torch.cuda.is_available() else \"cpu\")\n",
    "nlp = spacy.load(\"en_core_web_sm\")\n",
    "nlp.add_pipe(\"textrank\", last = True)\n",
    "nlp.max_length = 3_000_000"
   ]
  },
  {
   "cell_type": "code",
   "execution_count": 30,
   "metadata": {},
   "outputs": [
    {
     "data": {
      "text/plain": [
       "' THE FACTS 2. The applicant was born in 1971 and lives in Blagoevgrad. He was represented by Mr M. Ekimdzhiev and Ms K. Boncheva, lawyers practising in Plovdiv. 3. The Government were represented by their Agent, Ms I. StanchevaChinova of the Ministry of Justice. Background to the case Background to the case 4. Following parliamentary elections on 12 May 2013, on 29 May 2013 a new government was formed, led by Mr Plamen Oresharski and supported in Parliament by the Coalition for Bulgaria (whose main member was the Bulgarian Socialist Party – see paragraph 8 below), which had eightyfour members of Parliament, the Movement for Rights and Freedoms, which had thirtysix members of Parliament, and the chairman of another political party, Ataka, Mr Volen Siderov, who was also a member of Parliament. Together, these provided a majority of one hundred twentyone out of the total of two hundred and forty members of Parliament. 4. Following parliamentary elections on 12 May 2013, on 29 May 2013 a new government was formed, led by Mr Plamen Oresharski and supported in Parliament by the Coalition for Bulgaria (whose main member was the Bulgarian Socialist Party – see paragraph 8 below), which had eightyfour members of Parliament, the Movement for Rights and Freedoms, which had thirtysix members of Parliament, and the chairman of another political party, Ataka, Mr Volen Siderov, who was also a member of Parliament. Together, these provided a majority of one hundred twentyone out of the total of two hundred and forty members of Parliament. 5. On the evening of 14 June 2013 a wave of demonstrations against that government erupted in various cities and towns throughout the country. At first, the demonstrators’ main grievance was the appointment on the same date of Mr Delyan Peevski, a wealthy businessman and mediaowner, as chairman of the State Agency for National Security. The daily demonstrations continued until about midJanuary 2014. In an opinion poll carried out in late November and early December 2013, fortythree per cent of the respondents supported those antigovernment protests, and forty per cent were of the view that they should continue; twentytwo percent declared that they would themselves participate in them. In another opinion poll carried out during the same period by another agency, fortyone per cent of the respondents said that the best political solution for the country would be for that government to resign and for new parliamentary elections to take place. Several months later, on 23 July 2014, Mr Oresharski’s government stepped down. 5. On the evening of 14 June 2013 a wave of demonstrations against that government erupted in various cities and towns throughout the country. At first, the demonstrators’ main grievance was the appointment on the same date of Mr Delyan Peevski, a wealthy businessman and mediaowner, as chairman of the State Agency for National Security. The daily demonstrations continued until about midJanuary 2014. In an opinion poll carried out in late November and early December 2013, fortythree per cent of the respondents supported those antigovernment protests, and forty per cent were of the view that they should continue; twentytwo percent declared that they would themselves participate in them. In another opinion poll carried out during the same period by another agency, fortyone per cent of the respondents said that the best political solution for the country would be for that government to resign and for new parliamentary elections to take place. Several months later, on 23 July 2014, Mr Oresharski’s government stepped down. 6. At that time, the applicant was chairman of the Blagoevgrad chapter of the political party Democrats for a Strong Bulgaria (Демократи за силна България – “DSB”), which was then not represented in Parliament and which supported the antigovernment protests. Events of 25 December 2013 Events of 25 December 2013 7. In the early hours of 25 December 2013, Christmas day, the statue of Mr Dimitar Blagoev in the central square of Blagoevgrad was painted by unknown persons in red and white so as to resemble Santa Claus, and the plinth of the statue was daubed, using white spraypaint, with the words “Father Frost”. 7. In the early hours of 25 December 2013, Christmas day, the statue of Mr Dimitar Blagoev in the central square of Blagoevgrad was painted by unknown persons in red and white so as to resemble Santa Claus, and the plinth of the statue was daubed, using white spraypaint, with the words “Father Frost”. 8. Mr Blagoev (18561924) was the founder in 1891 of the Bulgarian SocialDemocratic Party. In 1919, that party took the name Bulgarian Communist Party, which it kept until April 1990, when, in the wake of the fall of the communist regime in Bulgaria in late 1989, in which it was the dominating political force, it renamed itself Bulgarian Socialist Party. It continues to operate under this name. In 1950 the town of Blagoevgrad was named after Mr Blagoev, and in 1971 his statue was placed in its central square. In 1991, shortly after the fall of the communist regime, the municipal council proposed to the President of Bulgaria to give the town one of its old names – Gorna Dzhumaya or Skaptopara (Σκαπτοπάρα) – but the President did not act on the proposal, apparently owing to objections by some of the town’s inhabitants. In June 2014 there was another unsuccessful initiative to give the town another name. 8. Mr Blagoev (18561924) was the founder in 1891 of the Bulgarian SocialDemocratic Party. In 1919, that party took the name Bulgarian Communist Party, which it kept until April 1990, when, in the wake of the fall of the communist regime in Bulgaria in late 1989, in which it was the dominating political force, it renamed itself Bulgarian Socialist Party. It continues to operate under this name. In 1950 the town of Blagoevgrad was named after Mr Blagoev, and in 1971 his statue was placed in its central square. In 1991, shortly after the fall of the communist regime, the municipal council proposed to the President of Bulgaria to give the town one of its old names – Gorna Dzhumaya or Skaptopara (Σκαπτοπάρα) – but the President did not act on the proposal, apparently owing to objections by some of the town’s inhabitants. In June 2014 there was another unsuccessful initiative to give the town another name. 9. In December 1991 Blageovgrad’s municipal council resolved to remove Mr Blagoev’s statue from the town centre. From the evidence adduced at the applicant’s subsequent trial (see paragraph 14 below), it appears that that resolution was put into effect. However, in May 1996 that decision was repealed by the new municipal council, and, again according to the evidence adduced at the applicant’s trial (see paragraph 14 below), the statue was then put back in its place. 9. In December 1991 Blageovgrad’s municipal council resolved to remove Mr Blagoev’s statue from the town centre. From the evidence adduced at the applicant’s subsequent trial (see paragraph 14 below), it appears that that resolution was put into effect. However, in May 1996 that decision was repealed by the new municipal council, and, again according to the evidence adduced at the applicant’s trial (see paragraph 14 below), the statue was then put back in its place. 10. Shortly before 10 a.m. on 25 December 2013 the applicant went to the already painted statue, which had been surrounded by a number of people and journalists drawn there by media reports that it had been painted over, and placed a red Santa Claus cap on its head and a red sack at its feet. The sack had a white band bearing the word “resignation” attached to it. The applicant said that he had been inspired to do that when seeing the media reports that the statue had been painted over. 10. Shortly before 10 a.m. on 25 December 2013 the applicant went to the already painted statue, which had been surrounded by a number of people and journalists drawn there by media reports that it had been painted over, and placed a red Santa Claus cap on its head and a red sack at its feet. The sack had a white band bearing the word “resignation” attached to it. The applicant said that he had been inspired to do that when seeing the media reports that the statue had been painted over. 11. Some of the journalists who were present took photographs of the statue with the cap and the sack and later published them. Shortly after that municipal workers came, took down the cap and the sack, and began removing the paint from the statue. Proceedings against the applicant Proceedings against the applicant 12. At about 2 p.m. the same day, 25 December 2013, the applicant was arrested in his home and taken to a police station, where he was placed in police detention for twentyfour hours, on suspicion of having committed hooliganism contrary to Article 325 § 1 of the Criminal Code (see paragraph 23 below), and searched. 13. The next day, 26 December 2013, the applicant was charged with minor hooliganism contrary to Article 1 § 2 of the 1963 Decree on Combatting Minor Hooliganism (“the 1963 Decree” – see paragraphs 2223 below) in relation to his having placed the cap and the sack on Mr Blagoev’s statue. He was then released from detention. 13. The next day, 26 December 2013, the applicant was charged with minor hooliganism contrary to Article 1 § 2 of the 1963 Decree on Combatting Minor Hooliganism (“the 1963 Decree” – see paragraphs 2223 below) in relation to his having placed the cap and the sack on Mr Blagoev’s statue. He was then released from detention. 14. In the course of his trial, which took place four days later, on 30 December 2013, the applicant stated that his act had been intended to express his protest against the government, which was his constitutional right, that that act had been met with universal approval, and that he had in effect made a good political joke. For their part, his counsel argued that he had exercised his constitutional right to express his views. 14. In the course of his trial, which took place four days later, on 30 December 2013, the applicant stated that his act had been intended to express his protest against the government, which was his constitutional right, that that act had been met with universal approval, and that he had in effect made a good political joke. For their part, his counsel argued that he had exercised his constitutional right to express his views. 15. The same day, 30 December 2013, the Blagoevgrad District Court found the applicant guilty of minor hooliganism contrary to Article 1 § 2 of the 1963 Decree (see paragraphs 2223 below), and fined him 100 Bulgarian levs (BGN) (equivalent to 51 euros (EUR)). 15. The same day, 30 December 2013, the Blagoevgrad District Court found the applicant guilty of minor hooliganism contrary to Article 1 § 2 of the 1963 Decree (see paragraphs 2223 below), and fined him 100 Bulgarian levs (BGN) (equivalent to 51 euros (EUR)). 16. The court held, inter alia, that the 1963 Decree did not contravene Article 39 of the 1991 Constitution (see paragraph 21 below), because the right to freedom of expression enshrined in that provision was subject to exceptions. It was immaterial whether Mr Blagoev was a controversial historical figure, as asserted by the applicant. Even if he was one, that did not entitle people to mock his statue, which had stood in the centre of Blagoevgrad for a long time and had to be respected and preserved; that was also a requirement of the culturalheritage conventions to which Bulgaria had adhered. Cultured people valued historical monuments and treated them with respect. If supporters of the Bulgarian Socialist Party were to paint the statue of a recently deceased anticommunist politician from the 1990s in Sofia as Superman, that would likewise amount to hooliganism. Such acts were unbecoming of the activists of a responsible political party, and had to be sanctioned in a State governed by the rule of law. Mr Blagoev was one of Blagoevgrad’s symbols, as attested by the town’s very name, which had not been changed after the fall of the communist regime. Contrary to the applicant’s assertions, his act had not been met with universal appreciation, as could be seen from a perusal of the numerous comments about it on the Internet, which ranged from approving to extremely disapproving ones. The “thin red line” between a proper political Christmas joke and hooliganism had been crossed. 16. The court held, inter alia, that the 1963 Decree did not contravene Article 39 of the 1991 Constitution (see paragraph 21 below), because the right to freedom of expression enshrined in that provision was subject to exceptions. It was immaterial whether Mr Blagoev was a controversial historical figure, as asserted by the applicant. Even if he was one, that did not entitle people to mock his statue, which had stood in the centre of Blagoevgrad for a long time and had to be respected and preserved; that was also a requirement of the culturalheritage conventions to which Bulgaria had adhered. Cultured people valued historical monuments and treated them with respect. If supporters of the Bulgarian Socialist Party were to paint the statue of a recently deceased anticommunist politician from the 1990s in Sofia as Superman, that would likewise amount to hooliganism. Such acts were unbecoming of the activists of a responsible political party, and had to be sanctioned in a State governed by the rule of law. Mr Blagoev was one of Blagoevgrad’s symbols, as attested by the town’s very name, which had not been changed after the fall of the communist regime. Contrary to the applicant’s assertions, his act had not been met with universal appreciation, as could be seen from a perusal of the numerous comments about it on the Internet, which ranged from approving to extremely disapproving ones. The “thin red line” between a proper political Christmas joke and hooliganism had been crossed. 17. In fixing the quantum of the penalty, the court took into account the preponderance of mitigating circumstances: the absence of any aggression or violence on the part of the applicant, his clean criminal record and good character, and his being unemployed. All those factors militated towards giving him the lowest possible fine. 17. In fixing the quantum of the penalty, the court took into account the preponderance of mitigating circumstances: the absence of any aggression or violence on the part of the applicant, his clean criminal record and good character, and his being unemployed. All those factors militated towards giving him the lowest possible fine. 18. The applicant appealed. At the appeal hearing he argued, inter alia, that his act had been a way of exercising his constitutional right to protest against the government. 18. The applicant appealed. At the appeal hearing he argued, inter alia, that his act had been a way of exercising his constitutional right to protest against the government. 19. In a final judgment of 7 January 2014 the Blagoevgrad Regional Court upheld the lower court’s judgment. It held, inter alia, that the applicant’s act had properly been characterised as minor hooliganism, as it had been indecent and had breached public order. It was not in doubt that the applicant had sought to express a political position, in particular since he was the regional leader of a political party. This had not, however, entitled him to protest by breaching the law, especially since Mr Blagoev’s statue had shortly before that been vandalised by an unknown person by being painted over, and the applicant had in effect completed that act by placing a cap and a sack on it, thus expressing his mocking attitude towards it. It was not necessary to establish whether specific bystanders had felt aggrieved by the applicant’s act, which had been carried out in front of a multitude of people. The applicant’s arguments that his act had not amounted to an offence because it had been an exercise of his right to protest could not be accepted, because fundamental rights could not be exercised by committing acts contrary to the 1963 Decree. 19. In a final judgment of 7 January 2014 the Blagoevgrad Regional Court upheld the lower court’s judgment. It held, inter alia, that the applicant’s act had properly been characterised as minor hooliganism, as it had been indecent and had breached public order. It was not in doubt that the applicant had sought to express a political position, in particular since he was the regional leader of a political party. This had not, however, entitled him to protest by breaching the law, especially since Mr Blagoev’s statue had shortly before that been vandalised by an unknown person by being painted over, and the applicant had in effect completed that act by placing a cap and a sack on it, thus expressing his mocking attitude towards it. It was not necessary to establish whether specific bystanders had felt aggrieved by the applicant’s act, which had been carried out in front of a multitude of people. The applicant’s arguments that his act had not amounted to an offence because it had been an exercise of his right to protest could not be accepted, because fundamental rights could not be exercised by committing acts contrary to the 1963 Decree. 20. The applicant paid the fine on 20 January 2014.'"
      ]
     },
     "execution_count": 30,
     "metadata": {},
     "output_type": "execute_result"
    }
   ],
   "source": [
    "cleaned_facts[0]"
   ]
  },
  {
   "cell_type": "code",
   "execution_count": 31,
   "metadata": {},
   "outputs": [],
   "source": [
    "def get_extractive_summary_textrank(parsed_doc, limit_phrases=4, limit_sentences=10):\n",
    "    sentence_bounds = [[sentence.start, sentence.end, set([])] for sentence in parsed_doc.sents]\n",
    "\n",
    "    phrase_id = 0\n",
    "    unit_vector = []\n",
    "    # get original text according to rank\n",
    "    for p in parsed_doc._.phrases:\n",
    "        unit_vector.append(p.rank)\n",
    "\n",
    "        for chunk in p.chunks:\n",
    "            for sent_start, sent_end, sent_vector in sentence_bounds:\n",
    "                if chunk.start >= sent_start and chunk.end <= sent_end:\n",
    "                    sent_vector.add(phrase_id)\n",
    "                    break\n",
    "\n",
    "        phrase_id += 1\n",
    "\n",
    "        if limit_phrases and phrase_id >= limit_phrases:\n",
    "            break\n",
    "\n",
    "    # euclidean distance between phrases, choose those with smallest distance\n",
    "    unit_vector = np.asarray(unit_vector)\n",
    "    sum_ranks = np.sum(unit_vector)\n",
    "    unit_vector /= sum_ranks \n",
    "    sent_rank = {}\n",
    "    sent_id = 0\n",
    "    for sent_start, sent_end, sent_vector in sentence_bounds:\n",
    "        sum_sq = 0\n",
    "        # only add to sum if phrase id not in sent vector so a phrase will not count itself\n",
    "        sum_sq = np.sqrt(np.sum([unit_vector[phrase_id]*unit_vector[phrase_id] for phrase_id in range(len(unit_vector)) if phrase_id not in sent_vector]))\n",
    "        sent_rank[sent_id] = sum_sq\n",
    "        sent_id += 1\n",
    "\n",
    "    sent_rank = dict(sorted(sent_rank.items(), key=lambda x: x[1]))\n",
    "\n",
    "    sent_id = 0\n",
    "    sent_text = {}\n",
    "    for sentence in parsed_doc.sents:\n",
    "        sent_text[sent_id] = sentence.text\n",
    "        sent_id += 1\n",
    "\n",
    "    limit = 0\n",
    "    summary = []\n",
    "    seen_sentences = set()  # to track unique sentences\n",
    "\n",
    "    for id_sentence in sent_rank.keys():\n",
    "        sentence = sent_text[id_sentence]\n",
    "        if sentence not in seen_sentences:  # check for duplicates\n",
    "            summary.append(sentence)\n",
    "            seen_sentences.add(sentence)  # add to seen sentences\n",
    "            limit += 1\n",
    "        if limit >= limit_sentences:\n",
    "            break\n",
    "\n",
    "    return summary"
   ]
  },
  {
   "cell_type": "code",
   "execution_count": null,
   "metadata": {},
   "outputs": [],
   "source": [
    "textrank_summaries = []\n",
    "for fact in cleaned_facts:\n",
    "    textrank_summary = get_extractive_summary_textrank(nlp(fact), limit_phrases = None, limit_sentences = 10)\n",
    "    textrank_summaries.append(textrank_summary)\n",
    "textrank_summaries"
   ]
  },
  {
   "cell_type": "markdown",
   "metadata": {},
   "source": [
    "## BERT"
   ]
  },
  {
   "cell_type": "code",
   "execution_count": 39,
   "metadata": {},
   "outputs": [],
   "source": [
    "model_summ = Summarizer(\"distilbert-base-uncased\", hidden_concat = True, hidden = [-1, -2], gpu_id = 0)"
   ]
  },
  {
   "cell_type": "code",
   "execution_count": 40,
   "metadata": {},
   "outputs": [],
   "source": [
    "def get_extractive_summary_bert(doc, limit_sentences = 10):\n",
    "    return model_summ(doc, use_first = False, return_as_list = True, num_sentences = limit_sentences) "
   ]
  },
  {
   "cell_type": "code",
   "execution_count": null,
   "metadata": {},
   "outputs": [],
   "source": [
    "bert_summaries = []\n",
    "for fact in cleaned_facts:\n",
    "    bert_summary = get_extractive_summary_bert(fact, limit_sentences = 10)\n",
    "    bert_summaries.append(bert_summary)\n",
    "bert_summaries"
   ]
  },
  {
   "cell_type": "code",
   "execution_count": null,
   "metadata": {},
   "outputs": [],
   "source": [
    "document_info = pd.read_csv('../data/df_dignity_facts_unclean.csv', index_col=0)\n",
    "document_info = document_info.reset_index(drop = True)\n",
    "document_info"
   ]
  },
  {
   "cell_type": "code",
   "execution_count": null,
   "metadata": {},
   "outputs": [],
   "source": [
    "document_info = document_info.drop(nan_indices, axis=0)\n",
    "document_info"
   ]
  },
  {
   "cell_type": "code",
   "execution_count": null,
   "metadata": {},
   "outputs": [],
   "source": [
    "document_info['textrank_summary'] = textrank_summaries\n",
    "document_info['bert_summary'] = bert_summaries\n",
    "document_info"
   ]
  },
  {
   "cell_type": "code",
   "execution_count": 43,
   "metadata": {},
   "outputs": [],
   "source": [
    "document_info.to_csv('textrank_bert_extractive_document_info.csv')"
   ]
  },
  {
   "cell_type": "markdown",
   "metadata": {},
   "source": [
    "## Phi-3 Ollama"
   ]
  },
  {
   "cell_type": "code",
   "execution_count": 51,
   "metadata": {},
   "outputs": [],
   "source": [
    "def generate_summary_phi3(fact):\n",
    "    \n",
    "    prompt = f\"\"\"\n",
    "    ## Instructions\n",
    "    You are a legal expert. Write a concise summary of the following legal text.\n",
    "    \n",
    "    ## Legal Text\n",
    "    Legal Text: {fact}\n",
    "    \"\"\"\n",
    "    \n",
    "    response = ollama.generate(\n",
    "        model = 'phi3:mini-128k',\n",
    "        prompt = prompt,\n",
    "        options = {\"temperature\" : 0, \"num_predict\" : MAX_TOKENS}\n",
    "    )\n",
    "\n",
    "    return response['response']"
   ]
  },
  {
   "cell_type": "code",
   "execution_count": 52,
   "metadata": {},
   "outputs": [],
   "source": [
    "phi3_summaries = []\n",
    "for fact in cleaned_facts:\n",
    "    phi3_summaries.append(generate_summary_phi3(fact))"
   ]
  },
  {
   "cell_type": "code",
   "execution_count": 53,
   "metadata": {},
   "outputs": [
    {
     "data": {
      "text/plain": [
       "\" On 28 December 2012, a man from Blagoevgrad painted over the statue of Todor Băgea in the town centre and placed a cap and a sack on it as part of his act. The court found that this was an indecent act amounting to minor hooliganism which breached public order. It also held that fundamental rights could not be exercised by committing acts contrary to the 1963 Decree, thus rejecting the applicant's argument that he had been exercising his right to protest against the government. The court upheld a fine of BGN 50 and costs amounting to BGN 248 imposed by the first-instance court.\""
      ]
     },
     "execution_count": 53,
     "metadata": {},
     "output_type": "execute_result"
    }
   ],
   "source": [
    "phi3_summaries[0]"
   ]
  },
  {
   "cell_type": "code",
   "execution_count": null,
   "metadata": {},
   "outputs": [],
   "source": [
    "document_info['phi3_summaries'] = phi3_summaries\n",
    "document_info"
   ]
  },
  {
   "cell_type": "code",
   "execution_count": 55,
   "metadata": {},
   "outputs": [],
   "source": [
    "document_info.to_csv('phi3_textrank_bert_dataset.csv')"
   ]
  }
 ],
 "metadata": {
  "kernelspec": {
   "display_name": "tutorials",
   "language": "python",
   "name": "tutorials"
  },
  "language_info": {
   "codemirror_mode": {
    "name": "ipython",
    "version": 3
   },
   "file_extension": ".py",
   "mimetype": "text/x-python",
   "name": "python",
   "nbconvert_exporter": "python",
   "pygments_lexer": "ipython3",
   "version": "3.12.3"
  }
 },
 "nbformat": 4,
 "nbformat_minor": 2
}
